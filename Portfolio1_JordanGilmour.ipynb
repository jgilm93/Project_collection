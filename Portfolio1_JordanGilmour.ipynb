{
 "cells": [
  {
   "cell_type": "markdown",
   "id": "3323e555",
   "metadata": {},
   "source": [
    "# Challenge 1: Introduction to Data Science and Python"
   ]
  },
  {
   "cell_type": "markdown",
   "id": "eaf73af1",
   "metadata": {},
   "source": [
    "### Task 1: Markdown and Formatting "
   ]
  },
  {
   "cell_type": "markdown",
   "id": "f82d35af",
   "metadata": {},
   "source": [
    "#### Data Matters\n",
    "\n",
    "*Data! Data! Data! I can’t make bricks without clay!*\n",
    "\n",
    "*Sir Arthur Conan Doyle*\n",
    "\n",
    "Sir Conan Doyle’s famous fictional detective, Sherlock Holmes, couldn’t form any theories or draw any conclusions until he had **sufficient data**. [Data is the basic building block](http://www.analyticshero.com/2012/09/19/the-two-guiding-principles-for-data-quality-in-digital-analytics/) of everything we do in analytics: the reports we build, the analyses we perform, the decisions we influence, and the optimisations we derive.\n",
    "\n",
    "\n",
    "\n",
    "*Not everything that can be counted counts, and not everything that counts can be counted.*\n",
    "\n",
    "*Albert Einstein, Physicist*\n",
    "\n",
    "While data is important, **the right data is essential**. It’s becoming easier to feel overwhelmed by the increasing amounts of data being collected. Understanding what’s important to the business (you need clear business goals) helps analysts to evaluate what data counts or should be counted. Albert Einstein was on to something when he said we can’t always track what we want to count, but that doesn’t stop us from constantly exploring new ways to get the data we need (just remember to **respect privacy** policies and laws)."
   ]
  },
  {
   "cell_type": "markdown",
   "id": "9bea544b",
   "metadata": {},
   "source": [
    "$f(x)=\\frac{P(x)}{Q(x)}p(x) = 3x^6$"
   ]
  },
  {
   "cell_type": "markdown",
   "id": "8f8ed7b0",
   "metadata": {},
   "source": [
    "### Task 2: Selection and Repetition "
   ]
  },
  {
   "cell_type": "code",
   "execution_count": 1,
   "id": "571f3fbc",
   "metadata": {},
   "outputs": [],
   "source": [
    "import random"
   ]
  },
  {
   "cell_type": "code",
   "execution_count": 2,
   "id": "e0d78523",
   "metadata": {},
   "outputs": [
    {
     "name": "stdout",
     "output_type": "stream",
     "text": [
      "0.6440133062186603\n",
      "0.13600410036749144\n",
      "0.8397282894509426\n",
      "0.4847727553554978\n",
      "0.9523924187971671\n"
     ]
    }
   ],
   "source": [
    "for k in range(5):\n",
    "    print(random.random())"
   ]
  },
  {
   "cell_type": "code",
   "execution_count": 3,
   "id": "f680f95a",
   "metadata": {},
   "outputs": [
    {
     "name": "stdout",
     "output_type": "stream",
     "text": [
      "The random number generated is: 0.5601247490620367\n",
      "Output (Heads is True, Tails is False): False\n"
     ]
    }
   ],
   "source": [
    "flip = random.random()\n",
    "if flip <0.5:\n",
    "    print('The random number generated is:', flip)\n",
    "    print('Output (Heads is True, Tails is False): True')\n",
    "else:\n",
    "    print('The random number generated is:', flip)\n",
    "    print('Output (Heads is True, Tails is False): False')"
   ]
  },
  {
   "cell_type": "code",
   "execution_count": null,
   "id": "7823770c",
   "metadata": {},
   "outputs": [],
   "source": [
    "n = float(input('Enter a value for p-probability of heads(range: <0 to 1>'))\n",
    "flip = random.random()\n",
    "p = n\n",
    "if flip <p:\n",
    "    print('The random number generated is:', flip)\n",
    "    print('Output (Heads is True, Tails is False): True')\n",
    "else:\n",
    "    print('The random number generated is:', flip)\n",
    "    print('Output (Heads is True, Tails is False): False')"
   ]
  },
  {
   "cell_type": "code",
   "execution_count": null,
   "id": "0450cd49",
   "metadata": {},
   "outputs": [],
   "source": [
    "flip = random.random()\n",
    "if flip <0.5:\n",
    "    print('The coin came up heads')\n",
    "else:\n",
    "    print('The coin came up tails')"
   ]
  },
  {
   "cell_type": "code",
   "execution_count": null,
   "id": "6effd6e2",
   "metadata": {},
   "outputs": [],
   "source": [
    "n = int(input('How many times would you like to flip the coin: '))\n",
    "for k in range(n):\n",
    "    flip = random.random()\n",
    "    if flip <0.5:\n",
    "        print('The coin came up heads')\n",
    "    else:\n",
    "        print('The coin came up tails')"
   ]
  },
  {
   "cell_type": "code",
   "execution_count": null,
   "id": "07ccc91a",
   "metadata": {},
   "outputs": [],
   "source": [
    "n = int(input('How many times would you like to flip the coin: '))\n",
    "count = 0\n",
    "for k in range(n):\n",
    "    flip = random.random()\n",
    "    if flip <0.5:\n",
    "        print('The coin came up heads')\n",
    "        count = count + 1\n",
    "    else:\n",
    "        print('The coin came up tails')\n",
    "print('Total number of heads:', count)\n",
    "print('Total number of tails:', n - count)"
   ]
  },
  {
   "cell_type": "code",
   "execution_count": null,
   "id": "ef0dc1a7",
   "metadata": {},
   "outputs": [],
   "source": [
    "n = int(input('How many times would you like to flip the coin: '))\n",
    "p = float(input('What probability would you like to give to heads <0 to 1>: '))\n",
    "count = 0\n",
    "for k in range(n):\n",
    "    flip = random.random()\n",
    "    if flip < p:\n",
    "        count = count + 1\n",
    "ratio = count / n\n",
    "print('There were', count, 'heads and', n - count, 'tails')\n",
    "print('Ratio of heads to total flips is', ratio)\n"
   ]
  },
  {
   "cell_type": "markdown",
   "id": "3d507c72",
   "metadata": {},
   "source": [
    "# Challenge 2: Lambdas and Functions "
   ]
  },
  {
   "cell_type": "markdown",
   "id": "ba95cce3",
   "metadata": {},
   "source": [
    "### Task 1: Data Structures "
   ]
  },
  {
   "cell_type": "code",
   "execution_count": null,
   "id": "857f15ad",
   "metadata": {},
   "outputs": [],
   "source": [
    "lst1 = [['Rishaad', '22223333', 25, 65, 48],\n",
    "        ['Leslie', '23232323', 78, 54, 68],\n",
    "        ['Haidar', '18493214', 55, 46, 39],\n",
    "        ['Sel', '50015542', 70, 81, 75],\n",
    "        ['Maryam', '45228733', 48, 75, 68],\n",
    "        ['Istiaque', '35503401', 100, 98, 90], \n",
    "        ['Morgan', '25678890', 65, 89, 43],\n",
    "        ['Mehran', '34545742', 65, 78, 87],\n",
    "        ['Josephine', '04587864', 87, 56, 76], \n",
    "        ['Shannon', '44678646', 65, 76, 65],\n",
    "        ['Anneke', '17850646', 72, 66, 58]]"
   ]
  },
  {
   "cell_type": "code",
   "execution_count": null,
   "id": "955046ff",
   "metadata": {},
   "outputs": [],
   "source": [
    "def calculate(lst):\n",
    "    for k in range(len(lst)):\n",
    "        print(lst[k])\n",
    "    \n",
    "calculate(lst1)"
   ]
  },
  {
   "cell_type": "markdown",
   "id": "7009ad61",
   "metadata": {},
   "source": [
    "### Task 2: Lambda Functions "
   ]
  },
  {
   "cell_type": "code",
   "execution_count": null,
   "id": "d69af207",
   "metadata": {},
   "outputs": [],
   "source": [
    "def calculate(lst):\n",
    "    for row in range(len(lst)):\n",
    "        lst[row].append(sum(lst[row][2:])/len(lst[row][2:]))\n",
    "    return lst     "
   ]
  },
  {
   "cell_type": "code",
   "execution_count": null,
   "id": "ed11ee8e",
   "metadata": {},
   "outputs": [],
   "source": [
    "calculate(lst1)"
   ]
  },
  {
   "cell_type": "code",
   "execution_count": null,
   "id": "da2d2bef",
   "metadata": {},
   "outputs": [],
   "source": [
    "def calculate(lst):\n",
    "    for row in range(len(lst)):\n",
    "        ave = sum(lst[row][2:])/len(lst[row][2:])\n",
    "        if ave>=80:\n",
    "            grade = 'HD'\n",
    "        elif ave>=70:\n",
    "            grade = 'D'\n",
    "        elif ave>=60:\n",
    "            grade = 'C'\n",
    "        elif ave>=50:\n",
    "            grade = 'P'\n",
    "        else:\n",
    "            grade = 'F'\n",
    "        #lst[row].append(ave) #need this if it's the first time running the function, but in context of this notebook, don't want 'ave' appended twice below\n",
    "        lst[row].append(grade)\n",
    "    return lst"
   ]
  },
  {
   "cell_type": "code",
   "execution_count": null,
   "id": "3666ba39",
   "metadata": {},
   "outputs": [],
   "source": [
    "calculate(lst1)"
   ]
  },
  {
   "cell_type": "code",
   "execution_count": null,
   "id": "895c9041",
   "metadata": {},
   "outputs": [],
   "source": [
    "def ave_col(table,col):\n",
    "    total = 0\n",
    "    for k in range (len(table)):\n",
    "        total = total + table[k][col]\n",
    "    average = total/len(table)\n",
    "    return average"
   ]
  },
  {
   "cell_type": "code",
   "execution_count": null,
   "id": "758497ad",
   "metadata": {},
   "outputs": [],
   "source": [
    "[ave_col(lst1,2), ave_col(lst1,3), ave_col(lst1,4), ave_col(lst1,5)] "
   ]
  },
  {
   "cell_type": "markdown",
   "id": "5eacc46c",
   "metadata": {},
   "source": [
    "```list=[]\n",
    "for k in range(lst1[2:6]):\n",
    "    list.append(ave_col(lst1,k))\n",
    "print(list)```\n",
    "\n",
    "Hey Rishaad, I tried to use this loop instead of writing the ave_col function 4 times - why didn't it work? "
   ]
  },
  {
   "cell_type": "markdown",
   "id": "fcadbae9",
   "metadata": {},
   "source": [
    "# Challenge 3: Data Structures and NumPy"
   ]
  },
  {
   "cell_type": "markdown",
   "id": "74a333f0",
   "metadata": {},
   "source": [
    "### Task 1: Working with NumPy"
   ]
  },
  {
   "cell_type": "code",
   "execution_count": null,
   "id": "5c83ffe8",
   "metadata": {},
   "outputs": [],
   "source": [
    "import numpy as np"
   ]
  },
  {
   "cell_type": "code",
   "execution_count": null,
   "id": "2756ef60",
   "metadata": {},
   "outputs": [],
   "source": [
    "square1 = np.array([[2,7,6],[9,5,1],[4,3,8]])"
   ]
  },
  {
   "cell_type": "code",
   "execution_count": null,
   "id": "228e3418",
   "metadata": {},
   "outputs": [],
   "source": [
    "square2 = np.array([[3,7,6],[7,5,1],[7,3,8]])"
   ]
  },
  {
   "cell_type": "code",
   "execution_count": null,
   "id": "8da55bcf",
   "metadata": {},
   "outputs": [],
   "source": [
    "square3 = np.array([[4,9,2],[3,9,7],[2,1,3]])"
   ]
  },
  {
   "cell_type": "code",
   "execution_count": null,
   "id": "061d3fe2",
   "metadata": {},
   "outputs": [],
   "source": [
    "square4 = np.array([[8,1,6],[3,5,7],[4,9,2]])"
   ]
  },
  {
   "cell_type": "code",
   "execution_count": null,
   "id": "0738035e",
   "metadata": {},
   "outputs": [],
   "source": [
    "square5 = np.random.rand(6,6)"
   ]
  },
  {
   "cell_type": "code",
   "execution_count": null,
   "id": "b2ceddae",
   "metadata": {},
   "outputs": [],
   "source": [
    "square6 = np.array([[17,24,1,8,15],[23,5,7,14,16],[4,6,13,20,22],[10,12,19,21,3],[11,18,25,2,9]])"
   ]
  },
  {
   "cell_type": "code",
   "execution_count": null,
   "id": "dbb37483",
   "metadata": {},
   "outputs": [],
   "source": [
    "def ismagic(square):\n",
    "    row = np.unique(square.sum(axis = 1))\n",
    "    col = np.unique(square.sum(axis = 0))\n",
    "    diag1 = sum(np.diagonal(square))\n",
    "    diag2 = sum(np.fliplr(square).diagonal())\n",
    "    if len(row) != 1:\n",
    "        return(\"is not a magic square\")\n",
    "    else:\n",
    "        if len(col) != 1:\n",
    "            return(\"not a magic square\")\n",
    "        else:\n",
    "            num = square.sum(axis = 1)\n",
    "            num2 = square.sum(axis = 0)\n",
    "            if diag1 != num[0]:\n",
    "                return(\"not a magic square\")\n",
    "            elif diag1 != num[1]:\n",
    "                return(\"not a magic square\")\n",
    "            elif diag1 != num[2]:\n",
    "                return(\"not a magic square\")\n",
    "            else:\n",
    "                if diag1 != num2[0]:\n",
    "                    return(\"not a magic square\")\n",
    "                elif diag1 != num2[1]:\n",
    "                    return(\"not a magic square\")\n",
    "                elif diag1 != num2[2]:\n",
    "                    return(\"not a magic square\")\n",
    "                else:\n",
    "                    if diag2 != num[0]:\n",
    "                        return(\"not a magic square\")\n",
    "                    elif diag2 != num[1]:\n",
    "                        return(\"not a magic square\")\n",
    "                    elif diag2 != num[2]:\n",
    "                        return(\"not a magic square\")\n",
    "                    else:\n",
    "                        if diag2 != num2[0]:\n",
    "                            return(\"not a magic square\")\n",
    "                        elif diag2 != num2[1]:\n",
    "                            return(\"not a magic square\")\n",
    "                        elif diag2 != num2[2]:\n",
    "                            return(\"not a magic square\")\n",
    "                        else:\n",
    "                            return(\"is a magic square\")"
   ]
  },
  {
   "cell_type": "code",
   "execution_count": null,
   "id": "e0852a18",
   "metadata": {},
   "outputs": [],
   "source": [
    "list(map(ismagic,(square1,square2,square3,square4,square5,square6)))"
   ]
  },
  {
   "cell_type": "markdown",
   "id": "6a773c54",
   "metadata": {},
   "source": [
    "# Challenge 4: Pandas "
   ]
  },
  {
   "cell_type": "markdown",
   "id": "1514383c",
   "metadata": {},
   "source": [
    "## Task 1: Working with Pandas"
   ]
  },
  {
   "cell_type": "code",
   "execution_count": null,
   "id": "794dd60b",
   "metadata": {},
   "outputs": [],
   "source": [
    "import pandas as pd"
   ]
  },
  {
   "cell_type": "code",
   "execution_count": null,
   "id": "0f34685c",
   "metadata": {},
   "outputs": [],
   "source": [
    "df1 = pd.read_excel('Realestatevaluationdataset.xlsx')\n",
    "df1"
   ]
  },
  {
   "cell_type": "code",
   "execution_count": null,
   "id": "ff53848a",
   "metadata": {},
   "outputs": [],
   "source": [
    "df1.rename(columns={\"X1 transaction date\": \"1 transaction date\", \"X2 house age\": \"2 house age\", \"X3 distance to the nearest MRT station\": \"3 distance to the nearest MRT station\", \"X4 number of convenience stores\":\"4 number of convenience stores\", \"X5 latitude\":\"5 latitude\", \"X6 longitude\":\"6 longitude\"},inplace=True)\n",
    "df1"
   ]
  },
  {
   "cell_type": "code",
   "execution_count": null,
   "id": "29fef913",
   "metadata": {
    "scrolled": true
   },
   "outputs": [],
   "source": [
    "df1.info()"
   ]
  },
  {
   "cell_type": "code",
   "execution_count": null,
   "id": "133c7e83",
   "metadata": {},
   "outputs": [],
   "source": [
    "df1.size"
   ]
  },
  {
   "cell_type": "code",
   "execution_count": null,
   "id": "76efcb4d",
   "metadata": {},
   "outputs": [],
   "source": [
    "df1.dtypes"
   ]
  },
  {
   "cell_type": "code",
   "execution_count": null,
   "id": "579df11d",
   "metadata": {},
   "outputs": [],
   "source": [
    "df1.columns"
   ]
  },
  {
   "cell_type": "code",
   "execution_count": null,
   "id": "2dea986d",
   "metadata": {},
   "outputs": [],
   "source": [
    "df1.shape"
   ]
  },
  {
   "cell_type": "code",
   "execution_count": null,
   "id": "1e1120d9",
   "metadata": {},
   "outputs": [],
   "source": [
    "df1.axes"
   ]
  },
  {
   "cell_type": "code",
   "execution_count": null,
   "id": "c07f6e50",
   "metadata": {},
   "outputs": [],
   "source": [
    "df1[(df1[\"2 house age\"]<2)]"
   ]
  },
  {
   "cell_type": "code",
   "execution_count": null,
   "id": "b4ef317b",
   "metadata": {},
   "outputs": [],
   "source": [
    "df1=df1.drop(columns = \"No\")\n",
    "df1"
   ]
  }
 ],
 "metadata": {
  "kernelspec": {
   "display_name": "Python 3 (ipykernel)",
   "language": "python",
   "name": "python3"
  },
  "language_info": {
   "codemirror_mode": {
    "name": "ipython",
    "version": 3
   },
   "file_extension": ".py",
   "mimetype": "text/x-python",
   "name": "python",
   "nbconvert_exporter": "python",
   "pygments_lexer": "ipython3",
   "version": "3.9.7"
  }
 },
 "nbformat": 4,
 "nbformat_minor": 5
}
